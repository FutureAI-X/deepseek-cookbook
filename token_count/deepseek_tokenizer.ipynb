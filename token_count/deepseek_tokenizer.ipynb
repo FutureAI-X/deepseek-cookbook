{
 "cells": [
  {
   "cell_type": "code",
   "execution_count": 1,
   "id": "7f74ff69-ac65-422c-8fac-6270c0fee714",
   "metadata": {},
   "outputs": [
    {
     "name": "stderr",
     "output_type": "stream",
     "text": [
      "C:\\Code\\deepseek-cookbook\\.venv\\Lib\\site-packages\\tqdm\\auto.py:21: TqdmWarning: IProgress not found. Please update jupyter and ipywidgets. See https://ipywidgets.readthedocs.io/en/stable/user_install.html\n",
      "  from .autonotebook import tqdm as notebook_tqdm\n",
      "None of PyTorch, TensorFlow >= 2.0, or Flax have been found. Models won't be available and only tokenizers, configuration and file/data utilities can be used.\n"
     ]
    }
   ],
   "source": [
    "import transformers"
   ]
  },
  {
   "cell_type": "code",
   "execution_count": 3,
   "id": "e16e1aed-32f0-4027-9379-8e198d4b5c0a",
   "metadata": {},
   "outputs": [],
   "source": [
    "chat_tokenizer_dir = \"./\"\n",
    "\n",
    "tokenizer = transformers.AutoTokenizer.from_pretrained(chat_tokenizer_dir, trust_remote_code=True)"
   ]
  },
  {
   "cell_type": "code",
   "execution_count": 4,
   "id": "d8931dfc-5be8-41f5-846d-5a95d06342e6",
   "metadata": {},
   "outputs": [],
   "source": [
    "result = tokenizer.encode(\"你好！很高兴见到你，有什么我可以帮忙的吗？\")"
   ]
  },
  {
   "cell_type": "code",
   "execution_count": 5,
   "id": "bdad5d45-e304-4f84-9375-f6cf97561671",
   "metadata": {},
   "outputs": [
    {
     "name": "stdout",
     "output_type": "stream",
     "text": [
      "Token 化的结果是：[30594, 1175, 70037, 17611, 804, 303, 10457, 34071, 26891, 61722, 1148]\n",
      "Token 用量：11\n"
     ]
    }
   ],
   "source": [
    "print(f\"Token 化的结果是：{result}\")\n",
    "print(f\"Token 用量：{len(result)}\")"
   ]
  },
  {
   "cell_type": "code",
   "execution_count": null,
   "id": "de8543bf-59d9-4bd9-80fb-470ada5b8a1b",
   "metadata": {},
   "outputs": [],
   "source": []
  }
 ],
 "metadata": {
  "kernelspec": {
   "display_name": "Python 3 (ipykernel)",
   "language": "python",
   "name": "python3"
  },
  "language_info": {
   "codemirror_mode": {
    "name": "ipython",
    "version": 3
   },
   "file_extension": ".py",
   "mimetype": "text/x-python",
   "name": "python",
   "nbconvert_exporter": "python",
   "pygments_lexer": "ipython3",
   "version": "3.11.9"
  }
 },
 "nbformat": 4,
 "nbformat_minor": 5
}
