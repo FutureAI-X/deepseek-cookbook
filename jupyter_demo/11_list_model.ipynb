{
 "cells": [
  {
   "cell_type": "markdown",
   "id": "c718e81c-c2b3-4724-a96b-11283fd71eca",
   "metadata": {},
   "source": [
    "# 列出可用模型"
   ]
  },
  {
   "cell_type": "code",
   "execution_count": 1,
   "id": "c5e435df-2963-4233-a453-924ba88b3f12",
   "metadata": {},
   "outputs": [],
   "source": [
    "from openai import OpenAI"
   ]
  },
  {
   "cell_type": "code",
   "execution_count": 4,
   "id": "ba845caf-0e0e-4fb9-8a3e-4af069cbbf5d",
   "metadata": {},
   "outputs": [],
   "source": [
    "client = OpenAI(\n",
    "    api_key=\"sk-caa51fb1e83942b7a48076fabac307ab\", \n",
    "    base_url=\"https://api.deepseek.com\"\n",
    ")"
   ]
  },
  {
   "cell_type": "code",
   "execution_count": 8,
   "id": "30802d2f-1a6d-477b-ab63-6161d945da11",
   "metadata": {},
   "outputs": [
    {
     "name": "stdout",
     "output_type": "stream",
     "text": [
      "{\"data\":[{\"id\":\"deepseek-chat\",\"created\":null,\"object\":\"model\",\"owned_by\":\"deepseek\"},{\"id\":\"deepseek-reasoner\",\"created\":null,\"object\":\"model\",\"owned_by\":\"deepseek\"}],\"object\":\"list\"}\n"
     ]
    }
   ],
   "source": [
    "print(client.models.list().model_dump_json())"
   ]
  },
  {
   "cell_type": "code",
   "execution_count": null,
   "id": "5696fc58-e044-4718-a4ec-5bad0b8e6957",
   "metadata": {},
   "outputs": [],
   "source": []
  }
 ],
 "metadata": {
  "kernelspec": {
   "display_name": "Python 3 (ipykernel)",
   "language": "python",
   "name": "python3"
  },
  "language_info": {
   "codemirror_mode": {
    "name": "ipython",
    "version": 3
   },
   "file_extension": ".py",
   "mimetype": "text/x-python",
   "name": "python",
   "nbconvert_exporter": "python",
   "pygments_lexer": "ipython3",
   "version": "3.11.9"
  }
 },
 "nbformat": 4,
 "nbformat_minor": 5
}
