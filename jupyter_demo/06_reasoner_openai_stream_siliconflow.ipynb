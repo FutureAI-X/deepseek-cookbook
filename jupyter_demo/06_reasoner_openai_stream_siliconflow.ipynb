{
 "cells": [
  {
   "cell_type": "markdown",
   "id": "ed67031e-6f4f-414a-96a4-41773c814f20",
   "metadata": {},
   "source": [
    "# 推理模型"
   ]
  },
  {
   "cell_type": "code",
   "execution_count": 16,
   "id": "d4824209-d704-45ab-9521-7d24f8021110",
   "metadata": {},
   "outputs": [],
   "source": [
    "from openai import OpenAI"
   ]
  },
  {
   "cell_type": "code",
   "execution_count": 17,
   "id": "ccb539bd-a2d6-4638-8503-110599948eb2",
   "metadata": {},
   "outputs": [],
   "source": [
    "client = OpenAI(api_key=\"sk-mriefpscmvqlyjfhwvtrryjubgvthnvccnwgsqriiagsqgvm\", base_url=\"https://api.siliconflow.cn/v1\")"
   ]
  },
  {
   "cell_type": "code",
   "execution_count": 21,
   "id": "aa78419e-73b0-4c62-9506-e1b8fe573497",
   "metadata": {},
   "outputs": [],
   "source": [
    "messages = [{\"role\": \"user\", \"content\": \"你好\"}]"
   ]
  },
  {
   "cell_type": "code",
   "execution_count": 22,
   "id": "5898f5c8-ab2c-427d-bfd0-9b342c0b9df0",
   "metadata": {},
   "outputs": [],
   "source": [
    "response = client.chat.completions.create(\n",
    "    model=\"deepseek-ai/DeepSeek-R1\",\n",
    "    messages=messages,\n",
    "    stream=True\n",
    ")"
   ]
  },
  {
   "cell_type": "code",
   "execution_count": 23,
   "id": "4cfc2bc6-3e5e-4a91-9355-aaa6d3b260dd",
   "metadata": {},
   "outputs": [
    {
     "name": "stdout",
     "output_type": "stream",
     "text": [
      "Alright, the user greeted me with \"你好\", which means \"hello\" in Mandarin. I should respond politely in the same language since they might be a Mandarin speaker. They didn't specify what they need help with, so it's best to ask how I can assist them today. Keep it friendly and open-ended to encourage them to share their request.\n",
      "\n",
      "Let me make sure my response is friendly and offers help. Maybe use some emojis to keep the tone warm. I should avoid any complicated sentences since they might just be testing the waters. Also, confirm that there's no sensitive content or hidden context in their message. Everything seems okay here.\n",
      "\n",
      "\n",
      "=== Final Answer ===\n",
      "\n",
      "\n",
      "\n",
      "\n",
      "你好！很高兴见到你。有什么我可以帮忙的吗？😊"
     ]
    }
   ],
   "source": [
    "done_reasoning = False\n",
    "for chunk in response:\n",
    "    reasoning_chunk = chunk.choices[0].delta.reasoning_content\n",
    "    answer_chunk = chunk.choices[0].delta.content\n",
    "    if reasoning_chunk != '' and reasoning_chunk is not None:\n",
    "        print(reasoning_chunk, end='',flush=True)\n",
    "    elif answer_chunk != '' and answer_chunk is not None:\n",
    "        if not done_reasoning:\n",
    "            print('\\n\\n=== Final Answer ===\\n\\n')\n",
    "            done_reasoning = True\n",
    "        print(answer_chunk, end='',flush=True)"
   ]
  },
  {
   "cell_type": "code",
   "execution_count": null,
   "id": "4b1c8a1b-6b56-41ff-8726-485b98339cb0",
   "metadata": {},
   "outputs": [],
   "source": []
  }
 ],
 "metadata": {
  "kernelspec": {
   "display_name": "Python 3 (ipykernel)",
   "language": "python",
   "name": "python3"
  },
  "language_info": {
   "codemirror_mode": {
    "name": "ipython",
    "version": 3
   },
   "file_extension": ".py",
   "mimetype": "text/x-python",
   "name": "python",
   "nbconvert_exporter": "python",
   "pygments_lexer": "ipython3",
   "version": "3.11.9"
  }
 },
 "nbformat": 4,
 "nbformat_minor": 5
}
