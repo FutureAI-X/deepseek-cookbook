{
 "cells": [
  {
   "cell_type": "markdown",
   "id": "ed67031e-6f4f-414a-96a4-41773c814f20",
   "metadata": {},
   "source": [
    "# 推理模型"
   ]
  },
  {
   "cell_type": "code",
   "execution_count": 15,
   "id": "d4824209-d704-45ab-9521-7d24f8021110",
   "metadata": {},
   "outputs": [],
   "source": [
    "from openai import OpenAI"
   ]
  },
  {
   "cell_type": "code",
   "execution_count": 16,
   "id": "ccb539bd-a2d6-4638-8503-110599948eb2",
   "metadata": {},
   "outputs": [],
   "source": [
    "client = OpenAI(api_key=\"sk-mriefpscmvqlyjfhwvtrryjubgvthnvccnwgsqriiagsqgvm\", base_url=\"https://api.siliconflow.cn/v1\")"
   ]
  },
  {
   "cell_type": "code",
   "execution_count": 17,
   "id": "aa78419e-73b0-4c62-9506-e1b8fe573497",
   "metadata": {},
   "outputs": [],
   "source": [
    "messages = [{\"role\": \"user\", \"content\": \"9.11和9.8哪个大\"}]"
   ]
  },
  {
   "cell_type": "code",
   "execution_count": 18,
   "id": "5898f5c8-ab2c-427d-bfd0-9b342c0b9df0",
   "metadata": {},
   "outputs": [],
   "source": [
    "response = client.chat.completions.create(\n",
    "    model=\"deepseek-ai/DeepSeek-R1\",\n",
    "    messages=messages,\n",
    "    stream=True\n",
    ")"
   ]
  },
  {
   "cell_type": "code",
   "execution_count": 19,
   "id": "4cfc2bc6-3e5e-4a91-9355-aaa6d3b260dd",
   "metadata": {},
   "outputs": [
    {
     "name": "stdout",
     "output_type": "stream",
     "text": [
      "嗯，用户问的是9.11和9.8哪个大。看起来这像是一个比较小数大小的问题。对于刚学小数的小学生来说，这可能是一个常见的问题，但有时候可能会有混淆，尤其是涉及到小数位数不同的情况。\n",
      "\n",
      "首先我得确认用户提到的这两个数字的写法是否正确，是否有可能是输入错误或者格式上的问题。比如，在中国，小数点通常用点，而有些国家用逗号分隔，但这里看起来是正常的数字。9.11和9.8都是常见的小数写法。\n",
      "\n",
      "接下来，我得回忆一下如何比较这两个数的大小。通常，比较小数的时候，要从高位开始比较，也就是整数部分，然后依次比较小数部分的每一位。这两个数的整数部分都是9，所以需要接着看小数部分。\n",
      "\n",
      "不过，这时候可能会有个误区，就是直接比较小数部分的数字。例如，有的学生可能会觉得“11比8大”，然后得出9.11比9.8大的结论，这样就错了。因为小数的大小比较不仅仅是看小数部分的数字大小，还要看位数是否相同。\n",
      "\n",
      "正确的做法应该是对齐小数点后的数字位数，或者将两个数统一到相同的位数再进行比较。比如说，9.8可以写成9.80，这样小数部分就有两位了，这样更容易和9.11的两位小数比较。\n",
      "\n",
      "比较的话，整数部分都是9，相等。小数部分第一位，一个是1（来自9.11的0.11中的第一位是1），另一个是8（来自9.80的0.80中的第一位是8）。这时候，8比1大，因此在第一个小数位上，9.80的小数部分更大，所以整体来说9.80更大，即9.8比9.11大。\n",
      "\n",
      "有的同学可能会有疑问，为什么不能直接比较后面的11和8呢？这可能是因为没有理解小数的位权不同。第一位小数是十分位，第二位是百分位，所以第一位小数的权重更大。比如0.11是1个十分之一和1个百分之一，也就是0.1+0.01=0.11；而0.8是8个十分之一，也就是0.80。显然，0.80比0.11大，所以即使第二位数字可能更大，但第一位小数位更大的数整体更大。\n",
      "\n",
      "所以综合起来，虽然9.11的两位小数部分是11，但因为第一位的比较已经决定了大小，所以无论后面的位数如何，只有当高位相等时才需要继续比较下一位。因此9.8（即9.80）比9.11大。\n",
      "\n",
      "，也有可能用户实际上误解了数字的写法，比如是否是9.11与9.8或者其他的格式问题？比如是否有其他符号？但根据给出的问题，应该没有这方面的问题。\n",
      "\n",
      "再想一遍，可能有其他的思考方式。比如把小数转换成分数来比较，可能更容易理解。9.11可以写成9 + 11/100，而9.8可以写成9 + 80/100。这时候明显80/100比11/100大，所以9.8更大。\n",
      "\n",
      "还有一种方法是直接进行减法运算，9.8 - 9.11 = 0.69，因为结果是正数，所以9.8更大。\n",
      "\n",
      "确认一下，所有的步骤都是正确的。总结起来，就是当比较小数时，位数不同时，要在位数少的数后面补零，使之位数相同。然后逐位比较，直到找到不同的位为止。\n",
      "\n",
      "\n",
      "答案：9.8比9.11大。**\n",
      "\n",
      "解析：**  \n",
      ". **对齐位数**：将两数的小数部分统一为相同位数，比较更方便：  \n",
      " - \\( 9.11 \\) → \\( 9.11 \\)  \n",
      " - \\( 9.8 \\) → \\( 9.80 \\)  \n",
      "\n",
      "2. **逐位比较**（从高位到低位）：  \n",
      "   - **整数部分**：均为 9，相等。  \n",
      " - **小数第一位**（十分位）：\\( 1 \\)（来自 9.11）< \\( 8 \\)（来自 9.80）。  \n",
      "   - 此时已能确定 \\( 9.8 > 9.11 \\)，无需继续比较后面的百分位。\n",
      "\n",
      "结论**：虽然 \\( 9.11 \\) 的小数部分数字“11”比“8”大，但小数的大小取决于**权重最高的不同位数**。\\( 9.8 \\) 的十分位（8）远大于 \\( 9.11 \\) 的十分位（1），因此 \\( 9.8 > 9.11 \\)。"
     ]
    }
   ],
   "source": [
    "for chunk in response:\n",
    "    delta = chunk.choices[0].delta\n",
    "    if delta.reasoning_content:\n",
    "        print(delta.reasoning_content, end='', flush=True)\n",
    "    elif delta.content:\n",
    "        print(delta.content, end='', flush=True)"
   ]
  },
  {
   "cell_type": "code",
   "execution_count": null,
   "id": "4b1c8a1b-6b56-41ff-8726-485b98339cb0",
   "metadata": {},
   "outputs": [],
   "source": []
  }
 ],
 "metadata": {
  "kernelspec": {
   "display_name": "Python 3 (ipykernel)",
   "language": "python",
   "name": "python3"
  },
  "language_info": {
   "codemirror_mode": {
    "name": "ipython",
    "version": 3
   },
   "file_extension": ".py",
   "mimetype": "text/x-python",
   "name": "python",
   "nbconvert_exporter": "python",
   "pygments_lexer": "ipython3",
   "version": "3.11.9"
  }
 },
 "nbformat": 4,
 "nbformat_minor": 5
}
