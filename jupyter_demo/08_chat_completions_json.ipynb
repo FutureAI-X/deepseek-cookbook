{
 "cells": [
  {
   "cell_type": "markdown",
   "id": "d86de142-cbad-4635-96b9-0bdd1b5ec174",
   "metadata": {},
   "source": [
    "# JSON Output"
   ]
  },
  {
   "cell_type": "code",
   "execution_count": 2,
   "id": "a07ef264-97fa-4c13-a588-d4dc1f6f780d",
   "metadata": {},
   "outputs": [],
   "source": [
    "import json\n",
    "from openai import OpenAI"
   ]
  },
  {
   "cell_type": "code",
   "execution_count": 3,
   "id": "9780b947-702e-4861-802f-654f2a914717",
   "metadata": {},
   "outputs": [],
   "source": [
    "client = OpenAI(\n",
    "    api_key=\"sk-caa51fb1e83942b7a48076fabac307ab\", \n",
    "    base_url=\"https://api.deepseek.com\"\n",
    ")"
   ]
  },
  {
   "cell_type": "code",
   "execution_count": 4,
   "id": "e3c9faf3-1d4b-4a7d-90cb-49e76c5b1b6b",
   "metadata": {},
   "outputs": [],
   "source": [
    "system_prompt = \"\"\"\n",
    "The user will provide some exam text. Please parse the \"question\" and \"answer\" and output them in JSON format. \n",
    "\n",
    "EXAMPLE INPUT: \n",
    "世界上最高的山峰是哪座？珠穆朗玛峰\n",
    "\n",
    "EXAMPLE JSON OUTPUT:\n",
    "{\n",
    "    \"question\": \"世界上最高的山峰是哪座？\",\n",
    "    \"answer\": \"珠穆朗玛峰\"\n",
    "}\n",
    "\"\"\""
   ]
  },
  {
   "cell_type": "code",
   "execution_count": 5,
   "id": "01dc77f5-e995-4881-a410-3e01d88fdab2",
   "metadata": {},
   "outputs": [],
   "source": [
    "user_prompt = \"世界上最长的河流是哪一条？尼罗河\""
   ]
  },
  {
   "cell_type": "code",
   "execution_count": 7,
   "id": "56214d05-2cc3-46bb-a7e6-93295c3cefb5",
   "metadata": {},
   "outputs": [],
   "source": [
    "messages = [\n",
    "    {\"role\": \"system\", \"content\": system_prompt},\n",
    "    {\"role\": \"user\", \"content\": user_prompt}\n",
    "]"
   ]
  },
  {
   "cell_type": "code",
   "execution_count": 8,
   "id": "1c9f5708-e74a-4a5f-ad3a-c309a747c490",
   "metadata": {},
   "outputs": [],
   "source": [
    "response = client.chat.completions.create(\n",
    "    model=\"deepseek-chat\",\n",
    "    messages=messages,\n",
    "    response_format={\n",
    "        'type': 'json_object'\n",
    "    }\n",
    ")"
   ]
  },
  {
   "cell_type": "code",
   "execution_count": 9,
   "id": "c036c3d3-6a60-4f0f-813f-38cc6b4de48f",
   "metadata": {},
   "outputs": [
    {
     "name": "stdout",
     "output_type": "stream",
     "text": [
      "{'question': '世界上最长的河流是哪一条？', 'answer': '尼罗河'}\n"
     ]
    }
   ],
   "source": [
    "print(json.loads(response.choices[0].message.content))"
   ]
  },
  {
   "cell_type": "code",
   "execution_count": null,
   "id": "9ed96502-0260-415a-a079-6ff722d7d2b0",
   "metadata": {},
   "outputs": [],
   "source": []
  }
 ],
 "metadata": {
  "kernelspec": {
   "display_name": "Python 3 (ipykernel)",
   "language": "python",
   "name": "python3"
  },
  "language_info": {
   "codemirror_mode": {
    "name": "ipython",
    "version": 3
   },
   "file_extension": ".py",
   "mimetype": "text/x-python",
   "name": "python",
   "nbconvert_exporter": "python",
   "pygments_lexer": "ipython3",
   "version": "3.11.9"
  }
 },
 "nbformat": 4,
 "nbformat_minor": 5
}
