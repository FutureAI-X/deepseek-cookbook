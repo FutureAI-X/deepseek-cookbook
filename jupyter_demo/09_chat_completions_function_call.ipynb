{
 "cells": [
  {
   "cell_type": "markdown",
   "id": "65d8714d-fa60-47bf-830a-619e3fca7adb",
   "metadata": {},
   "source": [
    "# Function Calling"
   ]
  },
  {
   "cell_type": "code",
   "execution_count": 3,
   "id": "6c88e847-4c07-443e-887d-f9652ed88f2c",
   "metadata": {},
   "outputs": [],
   "source": [
    "from openai import OpenAI"
   ]
  },
  {
   "cell_type": "code",
   "execution_count": 4,
   "id": "97bec431-e418-4fc9-910f-bdaf9777962f",
   "metadata": {},
   "outputs": [],
   "source": [
    "# 定义可用工具\n",
    "tools = [\n",
    "    {\n",
    "        \"type\": \"function\",\n",
    "        \"function\": {\n",
    "            \"name\": \"get_weather\",\n",
    "            \"description\": \"获取天气情况\",\n",
    "            \"parameters\": {\n",
    "                \"type\": \"object\",\n",
    "                \"properties\": {\n",
    "                    \"location\": {\n",
    "                        \"type\": \"string\",\n",
    "                        \"description\": \"城市名称\",\n",
    "                    }\n",
    "                },\n",
    "                \"required\": [\"location\"]\n",
    "            },\n",
    "        }\n",
    "    },\n",
    "]"
   ]
  },
  {
   "cell_type": "code",
   "execution_count": 5,
   "id": "bd34576a-97f5-415f-9f26-7e3ad09041b1",
   "metadata": {},
   "outputs": [],
   "source": [
    "client = OpenAI(\n",
    "    api_key=\"sk-caa51fb1e83942b7a48076fabac307ab\", \n",
    "    base_url=\"https://api.deepseek.com\"\n",
    ")"
   ]
  },
  {
   "cell_type": "code",
   "execution_count": 6,
   "id": "780c37a8-3a54-4094-ba2e-5db0a011c6b2",
   "metadata": {},
   "outputs": [],
   "source": [
    "def send_messages(messages):\n",
    "    response = client.chat.completions.create(\n",
    "        model=\"deepseek-chat\",\n",
    "        messages=messages,\n",
    "        tools=tools\n",
    "    )\n",
    "    return response.choices[0].message"
   ]
  },
  {
   "cell_type": "code",
   "execution_count": 7,
   "id": "b30ad05f-679b-4f21-8517-569d2bc49a96",
   "metadata": {},
   "outputs": [],
   "source": [
    "messages = [{\"role\": \"user\", \"content\": \"杭州今天天气怎么样?\"}]"
   ]
  },
  {
   "cell_type": "code",
   "execution_count": 8,
   "id": "83b1f8fb-c87f-427c-807a-14a7d2f6ec99",
   "metadata": {},
   "outputs": [
    {
     "name": "stdout",
     "output_type": "stream",
     "text": [
      "{\n",
      "  \"content\": \"\",\n",
      "  \"role\": \"assistant\",\n",
      "  \"tool_calls\": [\n",
      "    {\n",
      "      \"id\": \"call_0_d8ee9f15-db35-46ca-9eec-4bdd00c7030f\",\n",
      "      \"function\": {\n",
      "        \"arguments\": \"{\\\"location\\\":\\\"杭州\\\"}\",\n",
      "        \"name\": \"get_weather\"\n",
      "      },\n",
      "      \"type\": \"function\",\n",
      "      \"index\": 0\n",
      "    }\n",
      "  ]\n",
      "}\n"
     ]
    }
   ],
   "source": [
    "message = send_messages(messages)\n",
    "print(message.to_json())"
   ]
  },
  {
   "cell_type": "code",
   "execution_count": 9,
   "id": "82e7237c-7a06-4619-b8fa-a77f6e47f0d6",
   "metadata": {},
   "outputs": [],
   "source": [
    "tool = message.tool_calls[0]"
   ]
  },
  {
   "cell_type": "code",
   "execution_count": 10,
   "id": "ac3663ec-d0d0-4c38-a400-62ddea147ece",
   "metadata": {},
   "outputs": [],
   "source": [
    "messages.append(message)"
   ]
  },
  {
   "cell_type": "code",
   "execution_count": 11,
   "id": "0b7bd547-d6be-4271-bfe7-503db36ca42a",
   "metadata": {},
   "outputs": [],
   "source": [
    "messages.append({\"role\": \"tool\", \"tool_call_id\": tool.id, \"content\": \"24℃\"})"
   ]
  },
  {
   "cell_type": "code",
   "execution_count": 12,
   "id": "963c0248-532a-4206-89f2-3b8ce50afccb",
   "metadata": {},
   "outputs": [],
   "source": [
    "message_second = send_messages(messages)"
   ]
  },
  {
   "cell_type": "code",
   "execution_count": 16,
   "id": "26ffd6f7-1d87-4a1f-98f4-a16aa6902022",
   "metadata": {},
   "outputs": [
    {
     "data": {
      "text/plain": [
       "ChatCompletionMessage(content='', refusal=None, role='assistant', audio=None, function_call=None, tool_calls=None)"
      ]
     },
     "execution_count": 16,
     "metadata": {},
     "output_type": "execute_result"
    }
   ],
   "source": [
    "message_second"
   ]
  },
  {
   "cell_type": "code",
   "execution_count": 13,
   "id": "18520193-30f9-4b1d-bb23-6d82ebf0f5b3",
   "metadata": {},
   "outputs": [],
   "source": [
    "messages.append(message_second)"
   ]
  },
  {
   "cell_type": "code",
   "execution_count": 18,
   "id": "9d2951f1-908b-4d39-b76d-3a4d059ef6d7",
   "metadata": {},
   "outputs": [
    {
     "data": {
      "text/plain": [
       "[{'role': 'user', 'content': '杭州今天天气怎么样?'},\n",
       " ChatCompletionMessage(content='', refusal=None, role='assistant', audio=None, function_call=None, tool_calls=[ChatCompletionMessageToolCall(id='call_0_d8ee9f15-db35-46ca-9eec-4bdd00c7030f', function=Function(arguments='{\"location\":\"杭州\"}', name='get_weather'), type='function', index=0)]),\n",
       " {'role': 'tool',\n",
       "  'tool_call_id': 'call_0_d8ee9f15-db35-46ca-9eec-4bdd00c7030f',\n",
       "  'content': '24℃'},\n",
       " ChatCompletionMessage(content='', refusal=None, role='assistant', audio=None, function_call=None, tool_calls=None)]"
      ]
     },
     "execution_count": 18,
     "metadata": {},
     "output_type": "execute_result"
    }
   ],
   "source": [
    "messages"
   ]
  },
  {
   "cell_type": "code",
   "execution_count": null,
   "id": "e2ebb75d-c34e-4c8f-aa9d-e5edbd7ff3b8",
   "metadata": {},
   "outputs": [],
   "source": []
  }
 ],
 "metadata": {
  "kernelspec": {
   "display_name": "Python 3 (ipykernel)",
   "language": "python",
   "name": "python3"
  },
  "language_info": {
   "codemirror_mode": {
    "name": "ipython",
    "version": 3
   },
   "file_extension": ".py",
   "mimetype": "text/x-python",
   "name": "python",
   "nbconvert_exporter": "python",
   "pygments_lexer": "ipython3",
   "version": "3.11.9"
  }
 },
 "nbformat": 4,
 "nbformat_minor": 5
}
