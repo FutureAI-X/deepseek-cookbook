{
 "cells": [
  {
   "cell_type": "markdown",
   "id": "3c08c2be-34e5-4dd5-9231-32d98a9c6d96",
   "metadata": {},
   "source": [
    "# 多轮对话"
   ]
  },
  {
   "cell_type": "code",
   "execution_count": 4,
   "id": "de46445e-8e6a-4d7e-a32a-f71ce6282cdf",
   "metadata": {},
   "outputs": [],
   "source": [
    "from openai import OpenAI"
   ]
  },
  {
   "cell_type": "code",
   "execution_count": 5,
   "id": "5fe20c52-95a0-4afe-bfb1-42fb3ec9531f",
   "metadata": {},
   "outputs": [],
   "source": [
    "client = OpenAI(api_key=\"sk-caa51fb1e83942b7a48076fabac307ab\", base_url=\"https://api.deepseek.com\")"
   ]
  },
  {
   "cell_type": "markdown",
   "id": "6eabf69d-79d6-474b-8181-17fe55ea6e0e",
   "metadata": {},
   "source": [
    "### 第一轮对话"
   ]
  },
  {
   "cell_type": "code",
   "execution_count": 6,
   "id": "e5dff1cf-9128-467d-b943-1c814768b2e0",
   "metadata": {},
   "outputs": [],
   "source": [
    "messages = [{\"role\": \"user\", \"content\": \"世界上最高的山峰是什么？\"}]"
   ]
  },
  {
   "cell_type": "code",
   "execution_count": 7,
   "id": "cc103c81-83f3-4fb0-bc3a-0879287f110a",
   "metadata": {},
   "outputs": [],
   "source": [
    "response = client.chat.completions.create(\n",
    "    model=\"deepseek-chat\",\n",
    "    messages=messages\n",
    ")"
   ]
  },
  {
   "cell_type": "code",
   "execution_count": 8,
   "id": "6c52edbd-fc63-480d-b441-09c46c1250c2",
   "metadata": {},
   "outputs": [],
   "source": [
    "messages.append(response.choices[0].message)"
   ]
  },
  {
   "cell_type": "code",
   "execution_count": 12,
   "id": "6fb4897a-fcc5-4358-bab9-19acc40ac2ac",
   "metadata": {},
   "outputs": [
    {
     "data": {
      "text/plain": [
       "[{'role': 'user', 'content': '世界上最高的山峰是什么？'},\n",
       " ChatCompletionMessage(content='世界上最高的山峰是**珠穆朗玛峰**（Mount Everest），它位于喜马拉雅山脉，跨越中国和尼泊尔边界。珠穆朗玛峰的海拔高度为**8848.86米**（根据2020年中国和尼泊尔的联合测量结果），是地球上海拔最高的山峰。由于其高度和挑战性，珠穆朗玛峰吸引了全球登山爱好者的关注，成为登山界的终极目标之一。', refusal=None, role='assistant', audio=None, function_call=None, tool_calls=None)]"
      ]
     },
     "execution_count": 12,
     "metadata": {},
     "output_type": "execute_result"
    }
   ],
   "source": [
    "messages"
   ]
  },
  {
   "cell_type": "markdown",
   "id": "feb595ac-9bd1-46d6-ac28-473a8ca64106",
   "metadata": {},
   "source": [
    "### 第二轮对话"
   ]
  },
  {
   "cell_type": "code",
   "execution_count": 13,
   "id": "c4c2f0e1-1936-44e8-8e5e-2387cf895758",
   "metadata": {},
   "outputs": [],
   "source": [
    "messages.append({\"role\": \"user\", \"content\": \"第二个是什么?\"})"
   ]
  },
  {
   "cell_type": "code",
   "execution_count": 14,
   "id": "8c8e9d13-7344-41e9-a5f9-d800e41962f6",
   "metadata": {},
   "outputs": [],
   "source": [
    "response = client.chat.completions.create(\n",
    "    model=\"deepseek-chat\",\n",
    "    messages=messages\n",
    ")"
   ]
  },
  {
   "cell_type": "code",
   "execution_count": 15,
   "id": "4289e063-3618-4c91-adc9-69968e8cbbaa",
   "metadata": {},
   "outputs": [],
   "source": [
    "messages.append(response.choices[0].message)"
   ]
  },
  {
   "cell_type": "code",
   "execution_count": 16,
   "id": "20b12b0f-3e04-4b42-aef5-095f2638aa69",
   "metadata": {},
   "outputs": [
    {
     "data": {
      "text/plain": [
       "[{'role': 'user', 'content': '世界上最高的山峰是什么？'},\n",
       " ChatCompletionMessage(content='世界上最高的山峰是**珠穆朗玛峰**（Mount Everest），它位于喜马拉雅山脉，跨越中国和尼泊尔边界。珠穆朗玛峰的海拔高度为**8848.86米**（根据2020年中国和尼泊尔的联合测量结果），是地球上海拔最高的山峰。由于其高度和挑战性，珠穆朗玛峰吸引了全球登山爱好者的关注，成为登山界的终极目标之一。', refusal=None, role='assistant', audio=None, function_call=None, tool_calls=None),\n",
       " {'role': 'user', 'content': '第二个是什么?'},\n",
       " ChatCompletionMessage(content='世界上第二高的山峰是**乔戈里峰**（K2），它位于喀喇昆仑山脉，跨越中国和巴基斯坦边界。乔戈里峰的海拔高度为**8611米**，仅次于珠穆朗玛峰。尽管乔戈里峰的高度略低于珠穆朗玛峰，但它被认为是技术难度更高的山峰，攀登条件更为严苛，因此也被称为“野蛮之峰”。乔戈里峰的攀登死亡率较高，是登山界最具挑战性的目标之一。', refusal=None, role='assistant', audio=None, function_call=None, tool_calls=None)]"
      ]
     },
     "execution_count": 16,
     "metadata": {},
     "output_type": "execute_result"
    }
   ],
   "source": [
    "messages"
   ]
  },
  {
   "cell_type": "code",
   "execution_count": null,
   "id": "d36d3f32-7a4f-4e45-b689-0c12f02ed62d",
   "metadata": {},
   "outputs": [],
   "source": []
  }
 ],
 "metadata": {
  "kernelspec": {
   "display_name": "Python 3 (ipykernel)",
   "language": "python",
   "name": "python3"
  },
  "language_info": {
   "codemirror_mode": {
    "name": "ipython",
    "version": 3
   },
   "file_extension": ".py",
   "mimetype": "text/x-python",
   "name": "python",
   "nbconvert_exporter": "python",
   "pygments_lexer": "ipython3",
   "version": "3.11.9"
  }
 },
 "nbformat": 4,
 "nbformat_minor": 5
}
