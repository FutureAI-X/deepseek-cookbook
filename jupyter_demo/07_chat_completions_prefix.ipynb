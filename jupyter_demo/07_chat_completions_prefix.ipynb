{
 "cells": [
  {
   "cell_type": "markdown",
   "id": "3e7c4363-3015-4be6-ba06-5af311352cc9",
   "metadata": {},
   "source": [
    "# 对话前缀续写"
   ]
  },
  {
   "cell_type": "code",
   "execution_count": 1,
   "id": "c99331e1-7453-4951-911d-b90481a394f3",
   "metadata": {},
   "outputs": [],
   "source": [
    "from openai import OpenAI"
   ]
  },
  {
   "cell_type": "code",
   "execution_count": 2,
   "id": "4158a55a-3073-48a4-931c-66c63ac1f2ed",
   "metadata": {},
   "outputs": [],
   "source": [
    "client = OpenAI(\n",
    "    api_key=\"sk-caa51fb1e83942b7a48076fabac307ab\", \n",
    "    base_url=\"https://api.deepseek.com/beta\"\n",
    ")"
   ]
  },
  {
   "cell_type": "code",
   "execution_count": 3,
   "id": "e40dbab0-d69d-4b61-a145-fc55ce07bb4a",
   "metadata": {},
   "outputs": [],
   "source": [
    "messages = [\n",
    "    {\"role\": \"user\", \"content\": \"写一段统计单词中某个字母个数的代码\"},\n",
    "    {\"role\": \"assistant\", \"content\": \"```python\\n\", \"prefix\": True}\n",
    "]"
   ]
  },
  {
   "cell_type": "code",
   "execution_count": 4,
   "id": "1a5e1c56-dc2c-4fe1-830d-13bfea79eca3",
   "metadata": {},
   "outputs": [],
   "source": [
    "response = client.chat.completions.create(\n",
    "    model=\"deepseek-chat\",\n",
    "    messages=messages,\n",
    "    stop=[\"```\"],\n",
    ")"
   ]
  },
  {
   "cell_type": "code",
   "execution_count": 5,
   "id": "050b1b1b-a3e1-4cad-9f5f-925937806e84",
   "metadata": {},
   "outputs": [
    {
     "name": "stdout",
     "output_type": "stream",
     "text": [
      "{\n",
      "  \"id\": \"5e11ef31-cff0-4d4d-a7fe-68e75a4b087c\",\n",
      "  \"choices\": [\n",
      "    {\n",
      "      \"finish_reason\": \"stop\",\n",
      "      \"index\": 0,\n",
      "      \"logprobs\": null,\n",
      "      \"message\": {\n",
      "        \"content\": \"def count_letter(word, letter):\\n    return word.lower().count(letter.lower())\\n\\n# 示例用法\\nword = \\\"Hello, World!\\\"\\nletter = \\\"l\\\"\\ncount = count_letter(word, letter)\\nprint(f\\\"单词 '{word}' 中字母 '{letter}' 出现了 {count} 次\\\")\\n\",\n",
      "        \"role\": \"assistant\"\n",
      "      }\n",
      "    }\n",
      "  ],\n",
      "  \"created\": 1739106308,\n",
      "  \"model\": \"deepseek-chat\",\n",
      "  \"object\": \"chat.completion\",\n",
      "  \"system_fingerprint\": \"fp_3a5770e1b4\",\n",
      "  \"usage\": {\n",
      "    \"completion_tokens\": 66,\n",
      "    \"prompt_tokens\": 16,\n",
      "    \"total_tokens\": 82,\n",
      "    \"prompt_tokens_details\": {\n",
      "      \"cached_tokens\": 0\n",
      "    },\n",
      "    \"prompt_cache_hit_tokens\": 0,\n",
      "    \"prompt_cache_miss_tokens\": 16\n",
      "  }\n",
      "}\n"
     ]
    }
   ],
   "source": [
    "print(response.to_json())"
   ]
  },
  {
   "cell_type": "code",
   "execution_count": null,
   "id": "4adf1938-dba5-4dc3-8160-32d3f96bad2d",
   "metadata": {},
   "outputs": [],
   "source": []
  }
 ],
 "metadata": {
  "kernelspec": {
   "display_name": "Python 3 (ipykernel)",
   "language": "python",
   "name": "python3"
  },
  "language_info": {
   "codemirror_mode": {
    "name": "ipython",
    "version": 3
   },
   "file_extension": ".py",
   "mimetype": "text/x-python",
   "name": "python",
   "nbconvert_exporter": "python",
   "pygments_lexer": "ipython3",
   "version": "3.11.9"
  }
 },
 "nbformat": 4,
 "nbformat_minor": 5
}
