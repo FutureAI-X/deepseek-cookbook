{
 "cells": [
  {
   "cell_type": "markdown",
   "id": "ed67031e-6f4f-414a-96a4-41773c814f20",
   "metadata": {},
   "source": [
    "# 推理模型"
   ]
  },
  {
   "cell_type": "code",
   "execution_count": 14,
   "id": "d4824209-d704-45ab-9521-7d24f8021110",
   "metadata": {},
   "outputs": [],
   "source": [
    "from openai import OpenAI"
   ]
  },
  {
   "cell_type": "code",
   "execution_count": 15,
   "id": "ccb539bd-a2d6-4638-8503-110599948eb2",
   "metadata": {},
   "outputs": [],
   "source": [
    "client = OpenAI(api_key=\"sk-051043ad646c425a9397da5bc1520ea5\", base_url=\"https://api.deepseek.com\")"
   ]
  },
  {
   "cell_type": "code",
   "execution_count": 16,
   "id": "aa78419e-73b0-4c62-9506-e1b8fe573497",
   "metadata": {},
   "outputs": [],
   "source": [
    "messages = [{\"role\": \"user\", \"content\": \"9.11和9.8哪个大\"}]"
   ]
  },
  {
   "cell_type": "code",
   "execution_count": 17,
   "id": "5898f5c8-ab2c-427d-bfd0-9b342c0b9df0",
   "metadata": {},
   "outputs": [],
   "source": [
    "response = client.chat.completions.create(\n",
    "    model=\"deepseek-reasoner\",\n",
    "    messages=messages,\n",
    "    stream=True\n",
    ")"
   ]
  },
  {
   "cell_type": "code",
   "execution_count": 18,
   "id": "71d822cd-70f6-4efd-8ff5-90d05c43f621",
   "metadata": {},
   "outputs": [],
   "source": [
    "done_reasoning = False"
   ]
  },
  {
   "cell_type": "raw",
   "id": "1cb4081a-19ab-4c7b-96ea-21d7b89da2aa",
   "metadata": {},
   "source": [
    "通过 for chunk in response 来迭代每个响应块，并使用 print(content, end='', flush=True) 来实时打印内容。end='' 确保内容打印在同一行，flush=True 确保内容立即输出到控制台。"
   ]
  },
  {
   "cell_type": "code",
   "execution_count": 19,
   "id": "4cfc2bc6-3e5e-4a91-9355-aaa6d3b260dd",
   "metadata": {},
   "outputs": [
    {
     "name": "stdout",
     "output_type": "stream",
     "text": [
      "嗯，今天老师布置了一个数学题，让我比较9.11和9.8哪个更大。一开始看起来好像挺简单的，但仔细想想可能有点小陷阱，所以我得好好想想怎么解决这个问题。\n",
      "\n",
      "首先，我应该回忆一下小数比较的基本方法。老师教过我们，比较小数的时候，要从高位开始，一位一位地比。也就是说，先比较整数部分，如果整数部分相同，再比较小数部分的第一位，依此类推。可是这里有一个问题，就是这两个数的整数部分都是9，所以接下来要看小数部分。\n",
      "\n",
      "不过，这里的小数部分写法有点不同。9.11的小数部分是0.11，而9.8的小数部分是0.8。可能有人会觉得，0.8看起来比0.11大，因为8比1大，但其实这可能忽略了一个重要的点，就是小数位数的不同。比如，0.8其实可以写成0.80，而0.11是0.11，这时候比较的话，0.80显然比0.11大。但这里的情况是，9.8的小数部分只有一位，而9.11有两位，所以在比较的时候，可能需要把它们的小数位数对齐，然后再进行比较。\n",
      "\n",
      "让我再仔细想想。比如说，把9.8写成9.80，这样小数部分就有两位了，这时候比较9.80和9.11的话，显然9.80更大，因为小数点后第一位是8比1大。所以这样的话，9.8其实比9.11大。\n",
      "\n",
      "不过，也有可能有人会犯错误，直接看小数点后的数字，比如0.8和0.11，可能会觉得0.11是11，而0.8是8，所以0.11更大。但这是错误的，因为小数部分的位数不同，不能直接比较数字的大小。必须把位数对齐之后才能正确比较。\n",
      "\n",
      "举个例子，0.1元就是1角，而0.10元就是10分，也就是1角，所以0.1等于0.10。同样，0.8可以写成0.80，这时候0.80比0.11大，所以9.80比9.11大，也就是9.8比9.11大。\n",
      "\n",
      "不过，我是不是哪里弄错了？比如，有时候可能会有不同的进位方式，或者有没有可能把9.8看成是9.08？比如，如果写成9.8，有人可能误以为是9.08，这时候9.11当然更大。但根据标准的写法，小数点后的数字如果没有零的话，后面的位数直接对应数值。所以9.8应该就是9.80，而不是9.08。所以这种情况下，9.8确实比9.11大。\n",
      "\n",
      "再换一种方式想，把两个数都转换成分数来比较。比如，9.11等于9又11/100，而9.8等于9又8/10，也就是80/100。那么比较11/100和80/100，显然80/100更大，所以9.8更大。\n",
      "\n",
      "或者，把它们转换成同样的分母，比如9.11=911/100，而9.8=980/100，这样直接比较分子的话，980比911大，所以9.8更大。\n",
      "\n",
      "这样看来，不管用哪种方法，结果都是9.8比9.11大。不过刚开始可能会因为小数位数的不同而产生误解，所以关键是要把小数位数补齐，然后再比较每一位的数字。\n",
      "\n",
      "总结一下，比较9.11和9.8的大小，正确的做法是将它们的小数位数对齐，即把9.8写成9.80，然后比较小数点后的每一位：第一位8比1大，所以9.80大于9.11，也就是9.8比9.11大。\n",
      "\n",
      "=== Final Answer ===\n",
      "\n",
      "\n",
      ".8比9.11大。以下是详细分析：\n",
      "\n",
      "1. **对齐小数位**：将9.8写作9.80，使其与9.11的小数位数一致。\n",
      "2. **逐位比较**：\n",
      "   - **整数部分**：两者均为9，相等。\n",
      "   - **小数第一位**：8（9.80）> 1（9.11），此时已可判定大小。\n",
      "3. **结论**：由于小数点后第一位8 > 1，无需比较后续位数，直接得出9.80 > 9.11，即 **9.8 > 9.11**。\n",
      "\n",
      "**答案：9.8比9.11大。**"
     ]
    }
   ],
   "source": [
    "for chunk in response:\n",
    "    reasoning_chunk = chunk.choices[0].delta.reasoning_content\n",
    "    answer_chunk = chunk.choices[0].delta.content\n",
    "    if reasoning_chunk != '' and reasoning_chunk is not None:\n",
    "        print(reasoning_chunk, end='',flush=True)\n",
    "    elif answer_chunk != '' and answer_chunk is not None:\n",
    "        if not done_reasoning:\n",
    "            print('\\n\\n=== Final Answer ===\\n\\n')\n",
    "            done_reasoning = True\n",
    "        print(answer_chunk, end='',flush=True)"
   ]
  }
 ],
 "metadata": {
  "kernelspec": {
   "display_name": "Python 3 (ipykernel)",
   "language": "python",
   "name": "python3"
  },
  "language_info": {
   "codemirror_mode": {
    "name": "ipython",
    "version": 3
   },
   "file_extension": ".py",
   "mimetype": "text/x-python",
   "name": "python",
   "nbconvert_exporter": "python",
   "pygments_lexer": "ipython3",
   "version": "3.11.9"
  }
 },
 "nbformat": 4,
 "nbformat_minor": 5
}
