{
 "cells": [
  {
   "cell_type": "markdown",
   "id": "ed67031e-6f4f-414a-96a4-41773c814f20",
   "metadata": {},
   "source": [
    "# 推理模型"
   ]
  },
  {
   "cell_type": "code",
   "execution_count": 11,
   "id": "d4824209-d704-45ab-9521-7d24f8021110",
   "metadata": {},
   "outputs": [],
   "source": [
    "from openai import OpenAI"
   ]
  },
  {
   "cell_type": "code",
   "execution_count": 12,
   "id": "ccb539bd-a2d6-4638-8503-110599948eb2",
   "metadata": {},
   "outputs": [],
   "source": [
    "client = OpenAI(api_key=\"sk-caa51fb1e83942b7a48076fabac307ab\", base_url=\"https://api.deepseek.com\")"
   ]
  },
  {
   "cell_type": "code",
   "execution_count": 13,
   "id": "aa78419e-73b0-4c62-9506-e1b8fe573497",
   "metadata": {},
   "outputs": [],
   "source": [
    "messages = [{\"role\": \"user\", \"content\": \"9.11和9.8哪个大\"}]"
   ]
  },
  {
   "cell_type": "code",
   "execution_count": 14,
   "id": "5898f5c8-ab2c-427d-bfd0-9b342c0b9df0",
   "metadata": {},
   "outputs": [],
   "source": [
    "response = client.chat.completions.create(\n",
    "    model=\"deepseek-reasoner\",\n",
    "    messages=messages,\n",
    "    stream=True\n",
    ")"
   ]
  },
  {
   "cell_type": "raw",
   "id": "2676ee07-b524-4e3b-b3aa-85ad1fcdb3f1",
   "metadata": {},
   "source": [
    "由于 response 是一个迭代器对象，只能迭代一次，出于教学目的，我们将其存储在 response_chunks 中，response_chunks 列表中存储了所有的响应块，你可以多次迭代 response_chunks 来处理这些数据。\n",
    "\n",
    "！在实际场景中，可不用此代码！"
   ]
  },
  {
   "cell_type": "code",
   "execution_count": 17,
   "id": "6e7a3227-ab90-495c-90f2-6538456dfdde",
   "metadata": {},
   "outputs": [
    {
     "name": "stdout",
     "output_type": "stream",
     "text": [
      "<openai.Stream object at 0x0000017BB2BF6650>\n"
     ]
    }
   ],
   "source": [
    "response_chunks = list(response)\n",
    "for response_chunk in response_chunks:\n",
    "    print(response_chunk.to_json())"
   ]
  },
  {
   "cell_type": "code",
   "execution_count": null,
   "id": "d420ba83-8db1-439f-860a-0852dc6410b9",
   "metadata": {},
   "outputs": [],
   "source": [
    "通过 for chunk in response 来迭代每个响应块，并使用 print(content, end='', flush=True) 来实时打印内容。end='' 确保内容打印在同一行，flush=True 确保内容立即输出到控制台。\n",
    "\n",
    "！参考上方描述，实际场景中应将 response_chunks 替换为 response！"
   ]
  },
  {
   "cell_type": "code",
   "execution_count": 10,
   "id": "4cfc2bc6-3e5e-4a91-9355-aaa6d3b260dd",
   "metadata": {},
   "outputs": [
    {
     "ename": "TypeError",
     "evalue": "can only concatenate str (not \"NoneType\") to str",
     "output_type": "error",
     "traceback": [
      "\u001b[1;31m---------------------------------------------------------------------------\u001b[0m",
      "\u001b[1;31mTypeError\u001b[0m                                 Traceback (most recent call last)",
      "Cell \u001b[1;32mIn[10], line 13\u001b[0m\n\u001b[0;32m     11\u001b[0m \u001b[38;5;28;01melse\u001b[39;00m:\n\u001b[0;32m     12\u001b[0m     text \u001b[38;5;241m=\u001b[39m delta\u001b[38;5;241m.\u001b[39mcontent\n\u001b[1;32m---> 13\u001b[0m     \u001b[43mcontent\u001b[49m\u001b[43m \u001b[49m\u001b[38;5;241;43m+\u001b[39;49m\u001b[38;5;241;43m=\u001b[39;49m\u001b[43m \u001b[49m\u001b[43mtext\u001b[49m\n\u001b[0;32m     14\u001b[0m \u001b[38;5;66;03m# 输出到控制台\u001b[39;00m\n\u001b[0;32m     15\u001b[0m \u001b[38;5;28mprint\u001b[39m(text, end\u001b[38;5;241m=\u001b[39m\u001b[38;5;124m'\u001b[39m\u001b[38;5;124m'\u001b[39m, flush\u001b[38;5;241m=\u001b[39m\u001b[38;5;28;01mTrue\u001b[39;00m)\n",
      "\u001b[1;31mTypeError\u001b[0m: can only concatenate str (not \"NoneType\") to str"
     ]
    }
   ],
   "source": [
    "reasoning_content = \"\"\n",
    "content = \"\"\n",
    "\n",
    "for chunk in response_chunks:\n",
    "    # 获取数据内容\n",
    "    delta = chunk.choices[0].delta\n",
    "    print(delta)\n",
    "    \n",
    "    text = \"\"\n",
    "    if delta.reasoning_content:\n",
    "        text = delta.reasoning_content\n",
    "        reasoning_content += text\n",
    "    else delta.content:\n",
    "        text = delta.content\n",
    "        content += text\n",
    "    # 输出到控制台\n",
    "    print(text, end='', flush=True)"
   ]
  },
  {
   "cell_type": "code",
   "execution_count": 6,
   "id": "ab9c6bed-adc8-4971-88c4-8b88f41b1c77",
   "metadata": {},
   "outputs": [
    {
     "data": {
      "text/plain": [
       "''"
      ]
     },
     "execution_count": 6,
     "metadata": {},
     "output_type": "execute_result"
    }
   ],
   "source": [
    "reasoning_content"
   ]
  },
  {
   "cell_type": "code",
   "execution_count": 7,
   "id": "ee9eb75e-21f7-405b-8f09-0e61db5dbee5",
   "metadata": {},
   "outputs": [
    {
     "data": {
      "text/plain": [
       "''"
      ]
     },
     "execution_count": 7,
     "metadata": {},
     "output_type": "execute_result"
    }
   ],
   "source": [
    "content"
   ]
  },
  {
   "cell_type": "code",
   "execution_count": null,
   "id": "4a5775b0-fd05-47c0-a3fe-38d42e5af72a",
   "metadata": {},
   "outputs": [],
   "source": []
  }
 ],
 "metadata": {
  "kernelspec": {
   "display_name": "Python 3 (ipykernel)",
   "language": "python",
   "name": "python3"
  },
  "language_info": {
   "codemirror_mode": {
    "name": "ipython",
    "version": 3
   },
   "file_extension": ".py",
   "mimetype": "text/x-python",
   "name": "python",
   "nbconvert_exporter": "python",
   "pygments_lexer": "ipython3",
   "version": "3.11.9"
  }
 },
 "nbformat": 4,
 "nbformat_minor": 5
}
