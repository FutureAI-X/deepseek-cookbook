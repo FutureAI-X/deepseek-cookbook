{
 "cells": [
  {
   "cell_type": "code",
   "execution_count": 2,
   "id": "d944e50a-1d42-46d5-a422-e7126ce4327a",
   "metadata": {},
   "outputs": [],
   "source": [
    "from openai import OpenAI"
   ]
  },
  {
   "cell_type": "code",
   "execution_count": 3,
   "id": "bb45b6fd-5c12-41c4-a0df-720d4fecfc3c",
   "metadata": {},
   "outputs": [],
   "source": [
    "client = OpenAI(\n",
    "    base_url='https://api-inference.modelscope.cn/v1/',\n",
    "    api_key='f4885373-679d-4a77-87e1-f913989e1152', \n",
    ")"
   ]
  },
  {
   "cell_type": "code",
   "execution_count": 7,
   "id": "fae38821-de00-4900-b1bf-943866742d62",
   "metadata": {},
   "outputs": [],
   "source": [
    "response = client.chat.completions.create(\n",
    "    model='deepseek-ai/DeepSeek-R1', # ModelScope Model-Id\n",
    "    messages=[\n",
    "        {\n",
    "            'role': 'system',\n",
    "            'content': 'You are a helpful assistant.'\n",
    "        },\n",
    "        {\n",
    "            'role': 'user',\n",
    "            'content': '你好'\n",
    "        }\n",
    "    ],\n",
    "    stream=True\n",
    ")"
   ]
  },
  {
   "cell_type": "code",
   "execution_count": 8,
   "id": "1ee3a082-13af-4838-9117-1b96ba109f55",
   "metadata": {},
   "outputs": [],
   "source": [
    "done_reasoning = False"
   ]
  },
  {
   "cell_type": "code",
   "execution_count": 9,
   "id": "3749b775-27d2-4a6e-9412-432a76b418c1",
   "metadata": {},
   "outputs": [
    {
     "name": "stdout",
     "output_type": "stream",
     "text": [
      "嗯，用户问的是9.11和9.8哪个大。这个问题看起来挺简单的，但作为刚开始学小数比较的学生，可能容易混淆。首先，我需要确认用户是不是真的在比较这两个小数，或者是否有其他可能的误解，比如日期之类的。但根据问题本身，应该是数值比较。\n",
      "\n",
      "，我需要分解问题。比较9.11和9.8的大小。首先，比较整数部分，两个数的整数部分都是9，所以需要比较小数部分。这时候可能会有一个常见的错误，就是直接比较小数点后的数字，比如把9.11的小数部分11和9.8的小数部分8比较，觉得11比8大，所以9.11更大。但实际上，小数部分的位数不同，应该统一位数后再比较。\n",
      "\n",
      "做法应该是将两个数的小数位数统一，比如将9.8写成9.80，这样小数部分都是两位。这时候比较的话，0.80和0.11，显然0.80更大，所以9.8其实更大。但用户可能没有意识到这一点，直接比较了小数点后的数字，导致错误。\n",
      "\n",
      "可能对小数位数的意义不太清楚，比如可能认为更多的位数意味着更大的数值，比如0.11是两位，而0.8是一位，但转换后0.80确实比0.11大。这时候需要解释清楚小数位数的意义，以及如何正确比较不同位数的小数。\n",
      "\n",
      "举例子来帮助理解，比如用钱来比喻，9元1角1分和9元8角，显然9元8角更多。或者用长度单位，9.11米和9.8米，后者更长。这样的例子可以帮助用户更直观地理解。\n",
      "\n",
      "要确保用户知道在比较小数时，先比较整数部分，如果整数部分相同，再依次比较十分位、百分位等。比如9.11和9.8，整数都是9，接下来比较十分位，一个是1，一个是8，显然8比1大，所以9.8更大，不需要再比较后面的百分位了。\n",
      "\n",
      "学过比较整数，现在扩展到小数，但可能还没有完全掌握小数比较的方法。这时候需要强调对齐小数位的重要性，以及从高位开始逐一比较的原则。\n",
      "\n",
      "用户需要明确小数比较的步骤：对齐位数，从高位开始比较，直到找到不同的数字为止。同时，纠正可能的误解，比如认为小数点后数字越多数值越大，或者直接比较小数点后的数字而不考虑位数。\n",
      "\n",
      "=== Final Answer ===\n",
      "\n",
      ".11和9.8的大小时，可以通过以下步骤分析：\n",
      "\n",
      " **统一小数位数**：  \n",
      "补零为9.80，便于逐位比较。\n",
      "\n",
      "位比较**：  \n",
      "整数部分**：均为9，相等。  \n",
      " **十分位**：1（9.**1**1） vs. 8（9.**8**0），显然 **8 > 1**。\n",
      "\n",
      "**：  得出结论\n",
      " > 1，因此 **9.8 > 9.11**。\n",
      "\n",
      "  总结**：\n",
      "11的小数部分有更多位数，但关键是比较高位数字（十分位）。因此，**9.8更大**。"
     ]
    }
   ],
   "source": [
    "for chunk in response:\n",
    "    reasoning_chunk = chunk.choices[0].delta.reasoning_content\n",
    "    answer_chunk = chunk.choices[0].delta.content\n",
    "    if reasoning_chunk != '' and reasoning_chunk is not None:\n",
    "        print(reasoning_chunk, end='',flush=True)\n",
    "    elif answer_chunk != '' and answer_chunk is not None:\n",
    "        if not done_reasoning:\n",
    "            print('\\n\\n=== Final Answer ===\\n')\n",
    "            done_reasoning = True\n",
    "        print(answer_chunk, end='',flush=True)"
   ]
  },
  {
   "cell_type": "code",
   "execution_count": null,
   "id": "63a96fbb-ccef-4dce-9df3-ca39759778dc",
   "metadata": {},
   "outputs": [],
   "source": []
  }
 ],
 "metadata": {
  "kernelspec": {
   "display_name": "Python 3 (ipykernel)",
   "language": "python",
   "name": "python3"
  },
  "language_info": {
   "codemirror_mode": {
    "name": "ipython",
    "version": 3
   },
   "file_extension": ".py",
   "mimetype": "text/x-python",
   "name": "python",
   "nbconvert_exporter": "python",
   "pygments_lexer": "ipython3",
   "version": "3.11.9"
  }
 },
 "nbformat": 4,
 "nbformat_minor": 5
}
