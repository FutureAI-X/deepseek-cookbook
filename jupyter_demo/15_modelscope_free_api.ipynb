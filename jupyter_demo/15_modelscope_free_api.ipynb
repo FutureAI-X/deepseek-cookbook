{
 "cells": [
  {
   "cell_type": "code",
   "execution_count": 1,
   "id": "d944e50a-1d42-46d5-a422-e7126ce4327a",
   "metadata": {},
   "outputs": [],
   "source": [
    "from openai import OpenAI"
   ]
  },
  {
   "cell_type": "code",
   "execution_count": 7,
   "id": "bb45b6fd-5c12-41c4-a0df-720d4fecfc3c",
   "metadata": {},
   "outputs": [],
   "source": [
    "client = OpenAI(\n",
    "    base_url='https://api-inference.modelscope.cn/v1/',\n",
    "    api_key='f4885373-679d-4a77-87e1-f913989e1152', # ModelScope Token\n",
    ")"
   ]
  },
  {
   "cell_type": "code",
   "execution_count": 11,
   "id": "fae38821-de00-4900-b1bf-943866742d62",
   "metadata": {},
   "outputs": [],
   "source": [
    "response = client.chat.completions.create(\n",
    "    model='deepseek-ai/DeepSeek-R1', # ModelScope Model-Id\n",
    "    messages=[\n",
    "        {\n",
    "            'role': 'system',\n",
    "            'content': 'You are a helpful assistant.'\n",
    "        },\n",
    "        {\n",
    "            'role': 'user',\n",
    "            'content': '9.11和9.8哪个大'\n",
    "        }\n",
    "    ],\n",
    "    stream=True\n",
    ")"
   ]
  },
  {
   "cell_type": "code",
   "execution_count": 12,
   "id": "1ee3a082-13af-4838-9117-1b96ba109f55",
   "metadata": {},
   "outputs": [],
   "source": [
    "done_reasoning = False"
   ]
  },
  {
   "cell_type": "code",
   "execution_count": 13,
   "id": "3749b775-27d2-4a6e-9412-432a76b418c1",
   "metadata": {},
   "outputs": [
    {
     "name": "stdout",
     "output_type": "stream",
     "text": [
      "嗯，用户问的是9.11和9.8哪个大。这个问题看起来挺简单的，但可能用户是刚开始学小数的小学生，或者对小数比较不太熟悉的人。首先，我需要确认自己是否理解正确，用户是比较两个小数的大小，对吧？\n",
      "\n",
      "先回忆一下小数比较的方法。通常比较小数的时候，先看整数部分，整数部分大的那个数就大。如果整数部分相同，再依次比较十分位、百分位等等。这里两个数的整数部分都是9，所以需要比较小数部分。\n",
      "\n",
      "看十分位。9.11的十分位是1，而9.8可以写成9.80，这样十分位就是8。这时候，8比1大，所以9.8的十分位更大，因此整体来说9.8比9.11大。不过，可能用户会直接比较9.11和9.8，而没考虑到9.8实际上是9.80，这时候可能会误以为9.11更大，因为11比8大，但这里的小数位数不同，所以需要对齐小数位再比较。\n",
      "\n",
      "误解了小数点的位置，比如把9.11当成9年11个月，而9.8当成9年8个月，这时候比较时间的话，9年11个月确实比9年8个月大。但通常情况下，应该按照数值比较。所以需要确认用户的意图，但这里没有更多信息的话，应该默认是数值比较。\n",
      "\n",
      "想想有没有其他可能性。比如，用户是否把小数点当成分隔符，比如版本号9.11和9.8，这时候可能比较的方式不同，版本号通常是逐个数字比较，即9.11相当于9和11，而9.8是9和8，所以9.11会比9.8大。但这种情况比较特殊，一般数值比较的话还是9.8更大。\n",
      "\n",
      "综合来看，应该先按照数值比较的方法解释，先对齐小数位，比较十分位，得出9.8更大的结论。然后可能用户需要步骤解释，所以分步骤说明，或者用比喻的方式帮助理解。\n",
      "\n",
      "也要注意用户可能的误区，比如以为小数位数多的数更大，或者直接比较小数点后的数字，比如11和8，而忽略了位数不同的影响。这时候需要指出错误所在，并正确引导比较的方法。\n",
      "\n",
      "比较方法是：将两数的小数位数对齐，即9.11和9.80，然后从高位开始比较，十分位8比1大，所以9.8更大。因此答案应该是9.8比9.11大。\n",
      "\n",
      "=== Final Answer ===\n",
      "\n",
      "比9.11大。\n",
      "\n",
      "分析步骤：**\n",
      "小数位数**：将两数写成相同小数位数，即  \n",
      " 9.11 = 9.11 \\)  \n",
      "8 \\ = 9.80 \\)。\n",
      "\n",
      "逐位比较**：\n",
      "整数部分**：两者均为 \\( 9 \\)，相等。\n",
      "十分位**：\\( 1 \\)（来自 9.11）与 \\( 8 \\)（来自 9.80）比较，\\( 8 > 1 \\)。\n",
      "\n",
      "结论**：由于十分位的 \\( 8 \\) 大于 \\( 1 \\，因此 \\( 9.80 > 9.11 \\)，即 \\( 9.8 > 9.11 \\)。\n",
      "\n",
      "关键提醒**：比较小数时，不能直接对比小数点后的数字位数（如误认为“11 > 8”），而需对齐位数后逐位判断。"
     ]
    }
   ],
   "source": [
    "for chunk in response:\n",
    "    reasoning_chunk = chunk.choices[0].delta.reasoning_content\n",
    "    answer_chunk = chunk.choices[0].delta.content\n",
    "    if reasoning_chunk != '':\n",
    "        print(reasoning_chunk, end='',flush=True)\n",
    "    elif answer_chunk != '':\n",
    "        if not done_reasoning:\n",
    "            print('\\n\\n=== Final Answer ===\\n')\n",
    "            done_reasoning = True\n",
    "        print(answer_chunk, end='',flush=True)"
   ]
  },
  {
   "cell_type": "code",
   "execution_count": null,
   "id": "63a96fbb-ccef-4dce-9df3-ca39759778dc",
   "metadata": {},
   "outputs": [],
   "source": []
  }
 ],
 "metadata": {
  "kernelspec": {
   "display_name": "Python 3 (ipykernel)",
   "language": "python",
   "name": "python3"
  },
  "language_info": {
   "codemirror_mode": {
    "name": "ipython",
    "version": 3
   },
   "file_extension": ".py",
   "mimetype": "text/x-python",
   "name": "python",
   "nbconvert_exporter": "python",
   "pygments_lexer": "ipython3",
   "version": "3.11.9"
  }
 },
 "nbformat": 4,
 "nbformat_minor": 5
}
