{
 "cells": [
  {
   "cell_type": "markdown",
   "id": "ed67031e-6f4f-414a-96a4-41773c814f20",
   "metadata": {},
   "source": [
    "# 推理模型"
   ]
  },
  {
   "cell_type": "code",
   "execution_count": 4,
   "id": "d4824209-d704-45ab-9521-7d24f8021110",
   "metadata": {},
   "outputs": [],
   "source": [
    "from openai import OpenAI"
   ]
  },
  {
   "cell_type": "code",
   "execution_count": 5,
   "id": "ccb539bd-a2d6-4638-8503-110599948eb2",
   "metadata": {},
   "outputs": [],
   "source": [
    "client = OpenAI(api_key=\"sk-caa51fb1e83942b7a48076fabac307ab\", base_url=\"https://api.deepseek.com\")"
   ]
  },
  {
   "cell_type": "code",
   "execution_count": 6,
   "id": "aa78419e-73b0-4c62-9506-e1b8fe573497",
   "metadata": {},
   "outputs": [],
   "source": [
    "messages = [{\"role\": \"user\", \"content\": \"9.11和9.8哪个大\"}]"
   ]
  },
  {
   "cell_type": "code",
   "execution_count": 7,
   "id": "5898f5c8-ab2c-427d-bfd0-9b342c0b9df0",
   "metadata": {},
   "outputs": [],
   "source": [
    "response = client.chat.completions.create(\n",
    "    model=\"deepseek-reasoner\",\n",
    "    messages=messages,\n",
    "    stream=False\n",
    ")"
   ]
  },
  {
   "cell_type": "code",
   "execution_count": 8,
   "id": "b6c96a8c-f086-4c8a-aef0-9eb565243396",
   "metadata": {},
   "outputs": [
    {
     "data": {
      "text/plain": [
       "'{\\n  \"id\": \"8815ed58-23c7-4778-ad80-84f312f26adc\",\\n  \"choices\": [\\n    {\\n      \"finish_reason\": \"stop\",\\n      \"index\": 0,\\n      \"logprobs\": null,\\n      \"message\": {\\n        \"content\": \"**答案：9.8 更大。**\\\\n\\\\n**分析步骤：**  \\\\n1. **统一小数位数**：将 9.8 转换为 9.80（等价形式），与 9.11 对齐位数。  \\\\n2. **逐位比较**：  \\\\n   - **整数部分**：均为 9，相等。  \\\\n   - **十分位**：9.80 的十分位是 **8**，9.11 的十分位是 **1**，显然 **8 > 1**。  \\\\n   - 无需比较百分位，因为十分位已分出大小。  \\\\n\\\\n**结论**：  \\\\n虽然 9.11 的小数部分有两位，但 9.8（即 9.80）的十分位数值更大，因此 **9.8 > 9.11**。\",\\n        \"role\": \"assistant\",\\n        \"reasoning_content\": \"嗯，用户问的是9.11和9.8哪个大。这看起来像是一个比较小数的问题，但可能用户对小数点后的位数不太确定，或者对如何比较小数的大小有疑问。首先，我需要确认这两个数的结构。9.11应该是指9和11/100，也就是9.11，而9.8则是9和8/10，也就是9.80。\\\\n\\\\n接下来，比较这两个数的大小，首先应该比较整数部分。两个数的整数部分都是9，所以接下来要看小数部分。对于小数部分的比较，常见的方法是将它们的小数位数统一，比如把9.8写成9.80，这样小数部分都是两位，方便比较。这时候比较0.11和0.80，显然0.80更大，所以9.80比9.11大，也就是说9.8比9.11大。\\\\n\\\\n不过，用户可能在这里混淆了数字的读法。比如，中文里有时候会把小数点后的数字单独读出来，比如9.11读作“九点一一”，而9.8读作“九点八”。这时候需要注意小数点的位置和每一位代表的数值。比如，9.11的十分位是1，百分位是1，而9.8的十分位是8，百分位是0。所以比较的时候，先看十分位，9.8的十分位是8，比9.11的十分位1要大，因此9.8更大。\\\\n\\\\n还有一种可能是用户误将9.11理解为某种其他格式，比如日期（9月11日）或者其他单位，但根据常规问题判断，应该还是数值比较。需要确认用户是否真的在问数值大小，而不是其他含义。但根据问题本身，应该就是数值比较。\\\\n\\\\n另外，可能存在的误区是，用户可能认为小数点后的数字越多，数值越大，比如觉得0.11比0.8大，因为11比8大，但实际上小数点的每一位代表的是不同的位权，十分位是0.1，百分位是0.01，所以0.11是0.1+0.01=0.11，而0.8是0.80，明显0.80更大。因此需要强调小数点后的位数不同时，补齐位数后再比较的重要性。\\\\n\\\\n总结起来，正确的比较方法是统一小数位数，然后逐位比较，得出9.8更大的结论。同时需要解释清楚比较的过程，避免用户因为位数不同而产生误解。\"\\n      }\\n    }\\n  ],\\n  \"created\": 1739098479,\\n  \"model\": \"deepseek-reasoner\",\\n  \"object\": \"chat.completion\",\\n  \"system_fingerprint\": \"fp_7e73fd9a08\",\\n  \"usage\": {\\n    \"completion_tokens\": 677,\\n    \"prompt_tokens\": 14,\\n    \"total_tokens\": 691,\\n    \"completion_tokens_details\": {\\n      \"reasoning_tokens\": 501\\n    },\\n    \"prompt_tokens_details\": {\\n      \"cached_tokens\": 0\\n    },\\n    \"prompt_cache_hit_tokens\": 0,\\n    \"prompt_cache_miss_tokens\": 14\\n  }\\n}'"
      ]
     },
     "execution_count": 8,
     "metadata": {},
     "output_type": "execute_result"
    }
   ],
   "source": [
    "response.to_json()"
   ]
  },
  {
   "cell_type": "code",
   "execution_count": 10,
   "id": "fe73cd90-45e6-4b03-bac7-de7ef94eece6",
   "metadata": {},
   "outputs": [
    {
     "data": {
      "text/plain": [
       "'嗯，用户问的是9.11和9.8哪个大。这看起来像是一个比较小数的问题，但可能用户对小数点后的位数不太确定，或者对如何比较小数的大小有疑问。首先，我需要确认这两个数的结构。9.11应该是指9和11/100，也就是9.11，而9.8则是9和8/10，也就是9.80。\\n\\n接下来，比较这两个数的大小，首先应该比较整数部分。两个数的整数部分都是9，所以接下来要看小数部分。对于小数部分的比较，常见的方法是将它们的小数位数统一，比如把9.8写成9.80，这样小数部分都是两位，方便比较。这时候比较0.11和0.80，显然0.80更大，所以9.80比9.11大，也就是说9.8比9.11大。\\n\\n不过，用户可能在这里混淆了数字的读法。比如，中文里有时候会把小数点后的数字单独读出来，比如9.11读作“九点一一”，而9.8读作“九点八”。这时候需要注意小数点的位置和每一位代表的数值。比如，9.11的十分位是1，百分位是1，而9.8的十分位是8，百分位是0。所以比较的时候，先看十分位，9.8的十分位是8，比9.11的十分位1要大，因此9.8更大。\\n\\n还有一种可能是用户误将9.11理解为某种其他格式，比如日期（9月11日）或者其他单位，但根据常规问题判断，应该还是数值比较。需要确认用户是否真的在问数值大小，而不是其他含义。但根据问题本身，应该就是数值比较。\\n\\n另外，可能存在的误区是，用户可能认为小数点后的数字越多，数值越大，比如觉得0.11比0.8大，因为11比8大，但实际上小数点的每一位代表的是不同的位权，十分位是0.1，百分位是0.01，所以0.11是0.1+0.01=0.11，而0.8是0.80，明显0.80更大。因此需要强调小数点后的位数不同时，补齐位数后再比较的重要性。\\n\\n总结起来，正确的比较方法是统一小数位数，然后逐位比较，得出9.8更大的结论。同时需要解释清楚比较的过程，避免用户因为位数不同而产生误解。'"
      ]
     },
     "execution_count": 10,
     "metadata": {},
     "output_type": "execute_result"
    }
   ],
   "source": [
    "reasoning_content = response.choices[0].message.reasoning_content\n",
    "reasoning_content"
   ]
  },
  {
   "cell_type": "code",
   "execution_count": 11,
   "id": "7a824f0b-ed98-4a7a-8bfe-24675d5d6a7a",
   "metadata": {},
   "outputs": [
    {
     "data": {
      "text/plain": [
       "'**答案：9.8 更大。**\\n\\n**分析步骤：**  \\n1. **统一小数位数**：将 9.8 转换为 9.80（等价形式），与 9.11 对齐位数。  \\n2. **逐位比较**：  \\n   - **整数部分**：均为 9，相等。  \\n   - **十分位**：9.80 的十分位是 **8**，9.11 的十分位是 **1**，显然 **8 > 1**。  \\n   - 无需比较百分位，因为十分位已分出大小。  \\n\\n**结论**：  \\n虽然 9.11 的小数部分有两位，但 9.8（即 9.80）的十分位数值更大，因此 **9.8 > 9.11**。'"
      ]
     },
     "execution_count": 11,
     "metadata": {},
     "output_type": "execute_result"
    }
   ],
   "source": [
    "content = response.choices[0].message.content\n",
    "content"
   ]
  },
  {
   "cell_type": "code",
   "execution_count": null,
   "id": "ab9c6bed-adc8-4971-88c4-8b88f41b1c77",
   "metadata": {},
   "outputs": [],
   "source": []
  }
 ],
 "metadata": {
  "kernelspec": {
   "display_name": "Python 3 (ipykernel)",
   "language": "python",
   "name": "python3"
  },
  "language_info": {
   "codemirror_mode": {
    "name": "ipython",
    "version": 3
   },
   "file_extension": ".py",
   "mimetype": "text/x-python",
   "name": "python",
   "nbconvert_exporter": "python",
   "pygments_lexer": "ipython3",
   "version": "3.11.9"
  }
 },
 "nbformat": 4,
 "nbformat_minor": 5
}
