{
 "cells": [
  {
   "cell_type": "markdown",
   "id": "6e6653d1-9484-4bfd-8802-0ddd682c789c",
   "metadata": {},
   "source": [
    "# FIM 补全"
   ]
  },
  {
   "cell_type": "code",
   "execution_count": 1,
   "id": "8b8a118e-64a5-4efe-8f25-094bf95886c7",
   "metadata": {},
   "outputs": [],
   "source": [
    "from openai import OpenAI"
   ]
  },
  {
   "cell_type": "code",
   "execution_count": 2,
   "id": "d440dcd0-ed1a-42ca-b8ce-7e027a555946",
   "metadata": {},
   "outputs": [],
   "source": [
    "client = OpenAI(\n",
    "    api_key=\"sk-caa51fb1e83942b7a48076fabac307ab\", \n",
    "    base_url=\"https://api.deepseek.com/beta\"\n",
    ")"
   ]
  },
  {
   "cell_type": "code",
   "execution_count": 19,
   "id": "3c1adc7a-294f-44b1-b50a-dca866979786",
   "metadata": {},
   "outputs": [],
   "source": [
    "response = client.completions.create(\n",
    "    model=\"deepseek-chat\",\n",
    "    prompt=\"def count_letter(word, letter):\",\n",
    "    echo=True,\n",
    "    max_tokens=128\n",
    ")"
   ]
  },
  {
   "cell_type": "code",
   "execution_count": 20,
   "id": "b4279cae-095f-4982-bba9-995bc38b17b6",
   "metadata": {},
   "outputs": [
    {
     "name": "stdout",
     "output_type": "stream",
     "text": [
      "def count_letter(word, letter):\n",
      "    count = 0\n",
      "    for l in word:\n",
      "        if l == letter:\n",
      "            count += 1\n",
      "    return count\n",
      "\n",
      "word = input(\"Enter a word: \")\n",
      "letter = input(\"Enter a letter: \")\n",
      "print(count_letter(word, letter))\n"
     ]
    }
   ],
   "source": [
    "print(response.choices[0].text)"
   ]
  },
  {
   "cell_type": "code",
   "execution_count": null,
   "id": "9bbd042b-2410-49c5-9dbe-0222320a7062",
   "metadata": {},
   "outputs": [],
   "source": []
  }
 ],
 "metadata": {
  "kernelspec": {
   "display_name": "Python 3 (ipykernel)",
   "language": "python",
   "name": "python3"
  },
  "language_info": {
   "codemirror_mode": {
    "name": "ipython",
    "version": 3
   },
   "file_extension": ".py",
   "mimetype": "text/x-python",
   "name": "python",
   "nbconvert_exporter": "python",
   "pygments_lexer": "ipython3",
   "version": "3.11.9"
  }
 },
 "nbformat": 4,
 "nbformat_minor": 5
}
